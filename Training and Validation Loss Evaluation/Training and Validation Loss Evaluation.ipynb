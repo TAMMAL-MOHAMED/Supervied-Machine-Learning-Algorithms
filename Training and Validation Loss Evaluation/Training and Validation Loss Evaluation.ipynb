{
 "cells": [
  {
   "cell_type": "markdown",
   "id": "24b627e6-9b05-426f-9bde-92f06061d10a",
   "metadata": {},
   "source": [
    "# **Polynomial Regression Model Analysis with Training and Validation Loss Evaluation**\n"
   ]
  },
  {
   "cell_type": "markdown",
   "id": "32d15b96-24bf-44b4-a116-48a18541dbe9",
   "metadata": {},
   "source": [
    "The following script I tried to fit polynomial regression models of orders 1, 4, and 8 (as examples) to a dataset and evaluate their performance based on training and validation losses. The dataset used here representing the gold medal winning time for the men’s 100m at each of the Olympic Games held since 1896 (taken from \"A first course in maching learning\" book). The idea or the aim of this work is to demonstrate how increasing model complexity can lead to overfitting. Here’s a breakdown of how it works:"
   ]
  },
  {
   "cell_type": "markdown",
   "id": "dd7540c1-65a6-4668-8073-cf6a0f4f933f",
   "metadata": {},
   "source": [
    "### Importing Libraries:"
   ]
  },
  {
   "cell_type": "markdown",
   "id": "8e90bee4-fd26-4134-a5f9-16b37093a1ce",
   "metadata": {},
   "source": [
    "First of all, my code starts by importing the **numpy** library, as well as **maplotlib** for plots. Also, the **MinMaxScaler** to scale our data as we are working on the Olympic 100m dataset."
   ]
  },
  {
   "cell_type": "code",
   "execution_count": 3,
   "id": "824fcccf-78a1-4d08-bb81-d92aaa9662d1",
   "metadata": {},
   "outputs": [],
   "source": [
    "import numpy as np\n",
    "import matplotlib.pyplot as plt\n",
    "from sklearn.preprocessing import MinMaxScaler"
   ]
  },
  {
   "cell_type": "markdown",
   "id": "46054f65-4012-4401-9ea2-dc0df1072967",
   "metadata": {},
   "source": [
    "### Data Loading and Scaling:"
   ]
  },
  {
   "cell_type": "markdown",
   "id": "fcd019bc-e91f-49c0-bba3-0ea6f34fe368",
   "metadata": {},
   "source": [
    "In the following cell, I started by loading the dataset from a CSV file using np.loadtxt. The first column represents the feature x representing the Olympid year, while the second column represents the target variable t, the winning time in seconds. The feature x is then scaled using MinMax scaling to ensure it lies between 0 and 1. \"L\" is the number of samples in the training set."
   ]
  },
  {
   "cell_type": "code",
   "execution_count": 4,
   "id": "c21c8057-dc5e-4ef8-90f1-5b5f26c1cf90",
   "metadata": {},
   "outputs": [],
   "source": [
    "# Load data\n",
    "data = np.loadtxt('data100m.csv', delimiter=',')\n",
    "L = 19\n",
    "orders = [1, 4, 8]\n",
    "\n",
    "def scaled_data(data):\n",
    "    x, t = data[:, 0][:, None], data[:, 1][:, None]\n",
    "    x = MinMaxScaler().fit_transform(x)\n",
    "    return x, t"
   ]
  },
  {
   "cell_type": "markdown",
   "id": "4fad3746-242f-48db-95ba-41b3f333035f",
   "metadata": {},
   "source": [
    "### Model Fitting: "
   ]
  },
  {
   "cell_type": "markdown",
   "id": "bf5f41a0-e2a3-4d91-8b1b-049a904200e0",
   "metadata": {},
   "source": [
    "The following part involves fitting polynomial regression models of varying degrees (orders) using **np.polyfit**. The orders to be evaluated are specified in the list orders = [1, 4, 8] declared above."
   ]
  },
  {
   "cell_type": "code",
   "execution_count": 5,
   "id": "13bbe3b5-c814-406b-bc41-304742107251",
   "metadata": {},
   "outputs": [],
   "source": [
    "def calcul(x, valx, t, i):\n",
    "    w = np.polyfit(x.flatten(), t.flatten(), i-1)[::-1][:, np.newaxis]\n",
    "    X = np.vander(x.flatten(), i, increasing=True)\n",
    "    valX = np.vander(valx.flatten(), i, increasing=True)\n",
    "    return w, X, valX"
   ]
  },
  {
   "cell_type": "markdown",
   "id": "a0eae251-15e6-4412-b601-529ae3987da0",
   "metadata": {},
   "source": [
    "Here:\n",
    "* **w** represents the model weights.\n",
    "* **X** and **valX** represent the feature matrices for training and validation data, respectively, using a Vandermonde matrix to represent polynomial terms."
   ]
  },
  {
   "cell_type": "markdown",
   "id": "47ebcc0e-c694-4d85-8ed7-37a43f36daca",
   "metadata": {},
   "source": [
    "### Error Calculation:"
   ]
  },
  {
   "cell_type": "markdown",
   "id": "725b0f06-9ea2-4ce1-bdd1-6abdf12238c7",
   "metadata": {},
   "source": [
    "The **error_calcul** function computes both the training and validation losses for each polynomial model using the **mean squared error (MSE)**. The results are printed for each model order."
   ]
  },
  {
   "cell_type": "code",
   "execution_count": 9,
   "id": "fb5d5148-a083-4974-81dd-f6f5029bf177",
   "metadata": {},
   "outputs": [],
   "source": [
    "def error_calcul(X, t, valX, valt, w, model_order):\n",
    "    training_loss = np.mean((X @ w - t) ** 2)\n",
    "    validation_loss = np.mean((valX @ w - valt) ** 2)\n",
    "    print(f'Model order: {model_order}, Training loss: {training_loss}, Validation loss: {validation_loss}')\n",
    "    return training_loss, validation_loss"
   ]
  },
  {
   "cell_type": "markdown",
   "id": "e15c6142-ae95-4708-8e0a-9508e4a0a8d6",
   "metadata": {},
   "source": [
    "### Plotting and Visualization:"
   ]
  },
  {
   "cell_type": "markdown",
   "id": "0a0ccf4e-79b6-4aab-bc22-23c1a2d099cd",
   "metadata": {},
   "source": [
    "The **line_plot** function generates predicted values for a given range of x values and overlays these predictions on a plot. Additionally, the **data_plot** function plots the original training and validation points for comparison."
   ]
  },
  {
   "cell_type": "code",
   "execution_count": 10,
   "id": "3f16d0f2-99de-4f08-b21e-921334f83186",
   "metadata": {},
   "outputs": [],
   "source": [
    "def line_plot(plotx, w, i):\n",
    "    t_pred = sum(w[k] * (plotx ** k) for k in range(i))\n",
    "    plt.plot(plotx, t_pred)\n",
    "\n",
    "\n",
    "def data_plot(x, t, valx, valt):\n",
    "    plt.scatter(x, t, color=\"m\", marker=\"o\", s=30, label='Training')\n",
    "    plt.scatter(valx, valt, color=\"y\", marker=\"o\", s=30, label='Validation')\n",
    "    plt.xlabel(\"x\")\n",
    "    plt.ylabel(\"t\")"
   ]
  },
  {
   "cell_type": "markdown",
   "id": "24642c10-16b4-4218-9459-9a02d6373b05",
   "metadata": {},
   "source": [
    "### Main Execution Flow:"
   ]
  },
  {
   "cell_type": "markdown",
   "id": "cd0ee316-94f5-4335-9461-3c6889cf3ead",
   "metadata": {},
   "source": [
    "In the **main** function, the data is split into training and validation sets. The models are fitted, and errors are calculated for each specified polynomial order. The results are displayed both as plots and text output."
   ]
  },
  {
   "cell_type": "code",
   "execution_count": 13,
   "id": "48be6f4b-3dc7-48ae-8237-b3c1758c06e1",
   "metadata": {},
   "outputs": [],
   "source": [
    "def main():\n",
    "    x, t = scaled_data(data)\n",
    "    valx, valt = x[L:], t[L:]\n",
    "    x, t = x[:L], t[:L]\n",
    "    plotx = np.arange(np.min(x), np.max(valx) + 0.01, 0.01)\n",
    "    plt.ylim((9, 12))\n",
    "    data_plot(x, t, valx, valt)\n",
    "    for i in orders:\n",
    "        w, X, valX = calcul(x, valx, t, i+1)\n",
    "        line_plot(plotx, w, i+1)\n",
    "        error_calcul(X, t, valX, valt, w, i)\n",
    "    plt.legend()\n",
    "    plt.show()"
   ]
  },
  {
   "cell_type": "code",
   "execution_count": 14,
   "id": "9fb0760c-9cc3-45e5-a654-bb4194e5501e",
   "metadata": {},
   "outputs": [
    {
     "name": "stdout",
     "output_type": "stream",
     "text": [
      "Model order: 1, Training loss: 0.058184533580366335, Validation loss: 0.10109614634607397\n",
      "Model order: 4, Training loss: 0.030099586020146653, Validation loss: 7.465386421927162\n",
      "Model order: 8, Training loss: 0.016751265823497907, Validation loss: 16283.43228891417\n"
     ]
    },
    {
     "data": {
      "image/png": "[encoded data removed]",
      "text/plain": [
       "<Figure size 640x480 with 1 Axes>"
      ]
     },
     "metadata": {},
     "output_type": "display_data"
    }
   ],
   "source": [
    "if __name__ == \"__main__\":\n",
    "    main()"
   ]
  },
  {
   "cell_type": "markdown",
   "id": "9bb68dde-a990-41a7-b461-ff2f348e0505",
   "metadata": {},
   "source": [
    "### Explanation of the Results:"
   ]
  },
  {
   "cell_type": "markdown",
   "id": "59c91f99-f3ab-473c-af62-ec00fff56a56",
   "metadata": {},
   "source": [
    "* Model Order 1: The training loss is low (0.0582), and the validation loss is also reasonably low (0.1011). This indicates a good balance between model complexity and generalization.\n",
    "* Model Order 4: The training loss is very low (0.0301), but the validation loss (7.4654) increases significantly, suggesting the model is starting to overfit.\n",
    "* Model Order 8: The training loss is almost negligible (0.0168), but the validation loss explodes to an astronomical value (16283.4323), a clear sign of severe overfitting. The model has learned the training data too well and fails to generalize.\n",
    "\n",
    "These results highlight the importance of selecting an appropriate model complexity to avoid overfitting while still capturing the underlying patterns in the data."
   ]
  },
  {
   "cell_type": "markdown",
   "id": "30d2612a-aeaa-4fad-9379-7d1cc407ee67",
   "metadata": {},
   "source": [
    "# **Conclusion:**"
   ]
  },
  {
   "cell_type": "markdown",
   "id": "2859f02a-e5d3-4ccb-8765-c44981e047aa",
   "metadata": {},
   "source": [
    "In this project I attempted to demonstrate the practical challenges of polynomial regression and model selection when working with data. As the complexity of the model increases (i.e., higher polynomial orders), the training loss tends to decrease, reflecting a better fit to the training data. However, this improved training performance often comes at the cost of generalization, as seen by the rapidly increasing validation loss in more complex models.\n",
    "\n",
    "Key takeaways from this project include:\n",
    "\n",
    "* **The Bias-Variance Tradeoff:** Lower-order models (e.g., degree 1) might underfit, failing to capture the nuances in the data, but they typically generalize better. In contrast, higher-order models (e.g., degree 8) tend to overfit by capturing noise and irrelevant fluctuations in the training data, leading to poor performance on new, unseen data.\n",
    "\n",
    "* **Overfitting in High-Order Models:** The drastic difference between training and validation loss in higher-order models is a clear indication of overfitting. While the model fits the training data almost perfectly, it fails to generalize, leading to extremely high errors when applied to validation data.\n",
    "\n",
    "* **The Need for Model Evaluation:** The results emphasize the importance of using both training and validation errors when evaluating model performance. Simply focusing on minimizing training loss can be misleading, as it does not guarantee good predictive performance on new data.\n",
    "\n",
    "In summary, this project highlights that in real-world applications, simpler models often provide better generalization, while overly complex models may lead to poor performance despite appearing highly accurate during training. The goal is to strike a balance between model complexity and the ability to generalize, avoiding both underfitting and overfitting."
   ]
  }
 ],
 "metadata": {
  "kernelspec": {
   "display_name": "Python 3 (ipykernel)",
   "language": "python",
   "name": "python3"
  },
  "language_info": {
   "codemirror_mode": {
    "name": "ipython",
    "version": 3
   },
   "file_extension": ".py",
   "mimetype": "text/x-python",
   "name": "python",
   "nbconvert_exporter": "python",
   "pygments_lexer": "ipython3",
   "version": "3.12.4"
  }
 },
 "nbformat": 4,
 "nbformat_minor": 5
}
